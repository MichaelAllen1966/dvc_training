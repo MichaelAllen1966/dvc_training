{
 "cells": [
  {
   "cell_type": "markdown",
   "metadata": {},
   "source": [
    "# Demo of encryption"
   ]
  },
  {
   "cell_type": "code",
   "execution_count": 1,
   "metadata": {},
   "outputs": [],
   "source": [
    "import json\n",
    "import pandas as pd\n",
    "\n",
    "from cryptography.fernet import Fernet"
   ]
  },
  {
   "cell_type": "markdown",
   "metadata": {},
   "source": [
    "## Import data path and encryption key json as a dictionary"
   ]
  },
  {
   "cell_type": "code",
   "execution_count": 2,
   "metadata": {},
   "outputs": [
    {
     "data": {
      "text/plain": [
       "{'file_path': 'gs://penchord-dvc-test/mja',\n",
       " 'encryption_key': '3AN4JXo0Gy2fWmU7szc6tkbUicR_P6AKkA5t5wEezqo='}"
      ]
     },
     "execution_count": 2,
     "metadata": {},
     "output_type": "execute_result"
    }
   ],
   "source": [
    "# Open the JSON file for reading\n",
    "with open('info.json', 'r') as file:\n",
    "    # Load the JSON data from the file\n",
    "    info = json.load(file)\n",
    "\n",
    "info"
   ]
  },
  {
   "cell_type": "markdown",
   "metadata": {},
   "source": [
    "## Load data"
   ]
  },
  {
   "cell_type": "code",
   "execution_count": 3,
   "metadata": {},
   "outputs": [
    {
     "data": {
      "text/html": [
       "<div>\n",
       "<style scoped>\n",
       "    .dataframe tbody tr th:only-of-type {\n",
       "        vertical-align: middle;\n",
       "    }\n",
       "\n",
       "    .dataframe tbody tr th {\n",
       "        vertical-align: top;\n",
       "    }\n",
       "\n",
       "    .dataframe thead th {\n",
       "        text-align: right;\n",
       "    }\n",
       "</style>\n",
       "<table border=\"1\" class=\"dataframe\">\n",
       "  <thead>\n",
       "    <tr style=\"text-align: right;\">\n",
       "      <th></th>\n",
       "      <th>Name</th>\n",
       "      <th>Quality</th>\n",
       "    </tr>\n",
       "  </thead>\n",
       "  <tbody>\n",
       "    <tr>\n",
       "      <th>0</th>\n",
       "      <td>Mike</td>\n",
       "      <td>25</td>\n",
       "    </tr>\n",
       "    <tr>\n",
       "      <th>1</th>\n",
       "      <td>Anna</td>\n",
       "      <td>100</td>\n",
       "    </tr>\n",
       "    <tr>\n",
       "      <th>2</th>\n",
       "      <td>Kerry</td>\n",
       "      <td>100</td>\n",
       "    </tr>\n",
       "    <tr>\n",
       "      <th>3</th>\n",
       "      <td>Amy</td>\n",
       "      <td>100</td>\n",
       "    </tr>\n",
       "  </tbody>\n",
       "</table>\n",
       "</div>"
      ],
      "text/plain": [
       "    Name  Quality\n",
       "0   Mike       25\n",
       "1   Anna      100\n",
       "2  Kerry      100\n",
       "3    Amy      100"
      ]
     },
     "execution_count": 3,
     "metadata": {},
     "output_type": "execute_result"
    }
   ],
   "source": [
    "data = pd.read_csv('./data/data.csv')\n",
    "data"
   ]
  },
  {
   "cell_type": "markdown",
   "metadata": {},
   "source": [
    "## Encrypt data"
   ]
  },
  {
   "cell_type": "code",
   "execution_count": 4,
   "metadata": {},
   "outputs": [],
   "source": [
    "# To generate a new key (save this to json file when first setting up encyption)\n",
    "# key = Fernet.generate_key()\n",
    "# key"
   ]
  },
  {
   "cell_type": "code",
   "execution_count": 5,
   "metadata": {},
   "outputs": [],
   "source": [
    "key = info['encryption_key']\n",
    "f = Fernet(key)"
   ]
  },
  {
   "cell_type": "code",
   "execution_count": 6,
   "metadata": {},
   "outputs": [],
   "source": [
    "# encrypt the dataframe\n",
    "encrypted_data = data.applymap(lambda x: f.encrypt(str(x).encode()))"
   ]
  },
  {
   "cell_type": "code",
   "execution_count": 7,
   "metadata": {},
   "outputs": [
    {
     "data": {
      "text/html": [
       "<div>\n",
       "<style scoped>\n",
       "    .dataframe tbody tr th:only-of-type {\n",
       "        vertical-align: middle;\n",
       "    }\n",
       "\n",
       "    .dataframe tbody tr th {\n",
       "        vertical-align: top;\n",
       "    }\n",
       "\n",
       "    .dataframe thead th {\n",
       "        text-align: right;\n",
       "    }\n",
       "</style>\n",
       "<table border=\"1\" class=\"dataframe\">\n",
       "  <thead>\n",
       "    <tr style=\"text-align: right;\">\n",
       "      <th></th>\n",
       "      <th>Name</th>\n",
       "      <th>Quality</th>\n",
       "    </tr>\n",
       "  </thead>\n",
       "  <tbody>\n",
       "    <tr>\n",
       "      <th>0</th>\n",
       "      <td>b'gAAAAABkbz8dvqyzqtUrIknuMiaTWB8EtQhLAJPxoB7Y...</td>\n",
       "      <td>b'gAAAAABkbz8dejzhWHEj0nhfD6nVUWUWOw3sfTl4-MXa...</td>\n",
       "    </tr>\n",
       "    <tr>\n",
       "      <th>1</th>\n",
       "      <td>b'gAAAAABkbz8dL5lRz4UuZy2khJ8gkT4aAbay6b-9WSe6...</td>\n",
       "      <td>b'gAAAAABkbz8dPWzc2SFNFPW2ME9qZqFQQxBOGbENw3Tf...</td>\n",
       "    </tr>\n",
       "    <tr>\n",
       "      <th>2</th>\n",
       "      <td>b'gAAAAABkbz8d0hJhR3dGFn_96ba_BSeHTepA_1papkAc...</td>\n",
       "      <td>b'gAAAAABkbz8dpQLppjUQG-gOzDMq5qwY7SjFIyjifcXV...</td>\n",
       "    </tr>\n",
       "    <tr>\n",
       "      <th>3</th>\n",
       "      <td>b'gAAAAABkbz8dZ-Xzfc2ZspC53MsDmr65vcq-nwa7a5ay...</td>\n",
       "      <td>b'gAAAAABkbz8d7cW629s_RdAK4OL1Ncpsv_ZkJC31kgSd...</td>\n",
       "    </tr>\n",
       "  </tbody>\n",
       "</table>\n",
       "</div>"
      ],
      "text/plain": [
       "                                                Name  \\\n",
       "0  b'gAAAAABkbz8dvqyzqtUrIknuMiaTWB8EtQhLAJPxoB7Y...   \n",
       "1  b'gAAAAABkbz8dL5lRz4UuZy2khJ8gkT4aAbay6b-9WSe6...   \n",
       "2  b'gAAAAABkbz8d0hJhR3dGFn_96ba_BSeHTepA_1papkAc...   \n",
       "3  b'gAAAAABkbz8dZ-Xzfc2ZspC53MsDmr65vcq-nwa7a5ay...   \n",
       "\n",
       "                                             Quality  \n",
       "0  b'gAAAAABkbz8dejzhWHEj0nhfD6nVUWUWOw3sfTl4-MXa...  \n",
       "1  b'gAAAAABkbz8dPWzc2SFNFPW2ME9qZqFQQxBOGbENw3Tf...  \n",
       "2  b'gAAAAABkbz8dpQLppjUQG-gOzDMq5qwY7SjFIyjifcXV...  \n",
       "3  b'gAAAAABkbz8d7cW629s_RdAK4OL1Ncpsv_ZkJC31kgSd...  "
      ]
     },
     "execution_count": 7,
     "metadata": {},
     "output_type": "execute_result"
    }
   ],
   "source": [
    "encrypted_data"
   ]
  },
  {
   "cell_type": "markdown",
   "metadata": {},
   "source": [
    "## Save encrypted data"
   ]
  },
  {
   "cell_type": "code",
   "execution_count": 8,
   "metadata": {},
   "outputs": [],
   "source": [
    "encrypted_data.to_csv('./dvc_data/encrypted_data.csv', index=False)"
   ]
  }
 ],
 "metadata": {
  "kernelspec": {
   "display_name": "Python 3 (ipykernel)",
   "language": "python",
   "name": "python3"
  },
  "language_info": {
   "codemirror_mode": {
    "name": "ipython",
    "version": 3
   },
   "file_extension": ".py",
   "mimetype": "text/x-python",
   "name": "python",
   "nbconvert_exporter": "python",
   "pygments_lexer": "ipython3",
   "version": "3.10.9"
  }
 },
 "nbformat": 4,
 "nbformat_minor": 4
}
